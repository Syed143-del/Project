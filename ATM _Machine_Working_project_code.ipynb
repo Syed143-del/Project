{
 "cells": [
  {
   "cell_type": "markdown",
   "id": "67f1eea4",
   "metadata": {},
   "source": [
    "# ATM MACHINE WORKING PROJECT IN PYTHON WITH OOPS"
   ]
  },
  {
   "cell_type": "code",
   "execution_count": 2,
   "id": "c94b31dd",
   "metadata": {},
   "outputs": [],
   "source": [
    "class Atm:\n",
    "\n",
    "    def __init__(self):\n",
    "\n",
    "        self.pin=\"\"\n",
    "        self.balence=0\n",
    "\n",
    "        self.menu()\n",
    "\n",
    "    def menu(self):\n",
    "        user_input=input(\"\"\"\n",
    "                   HELLO  HOW WOULD YOU LIKE TO CONTINUE ?\n",
    "                   1. PRESS 1 TO CREATE A  PIN\n",
    "                   2. PRESS 2 TO DEPOSIT THE AMOUNT\n",
    "                   3. PRESS 3 TO WITHDRAW THE AMOUNT\n",
    "                   4. PRESS 4 TO CHECK  BALENCE\n",
    "                   5. PRESS 5 TO  EXIT\n",
    "\n",
    "\n",
    "\n",
    "\"\"\")\n",
    "\n",
    "        if user_input==\"1\":\n",
    "            self.create_pin()\n",
    "        elif user_input==\"2\":\n",
    "            self.deposit()\n",
    "        elif user_input==\"3\":\n",
    "            self.withdraw()\n",
    "        elif user_input==\"4\":\n",
    "            self.check_balence()\n",
    "        else:\n",
    "            print(\"bye\")\n",
    "            \n",
    "\n",
    "    def create_pin(self):\n",
    "        self.pin=input(\"Enter your pin = \")\n",
    "        print(\"Pin set succesfully\")\n",
    "\n",
    "    def deposit(self):\n",
    "        temp=input(\"Enter your pin = \")\n",
    "        if temp==self.pin:\n",
    "            amount=int(input(\"Enter the amount to deposit\"))\n",
    "            self.balence=self.balence+amount\n",
    "            print(\"Depositted Succesfully\")\n",
    "        else:\n",
    "            print(\"Invalid pin\")\n",
    "\n",
    "    def withdraw(self):\n",
    "        temp=input(\"Enter your pin = \")\n",
    "        if temp==self.pin:\n",
    "            amount=int(input(\"Enter the amount that you want to withdraw\"))\n",
    "            if amount <= self.balence:\n",
    "                self.balence=self.balence-amount\n",
    "                print(\"successfully withdrawn the amount\")\n",
    "            else:\n",
    "                print(\"Insufficient funds\")\n",
    "        else:\n",
    "            print(\"Invalid pin\")\n",
    "            \n",
    "\n",
    "    def check_balence(self):\n",
    "        temp=input(\"Enter your pin\")\n",
    "        if temp==self.pin:\n",
    "            print(self.balence)\n",
    "        else:\n",
    "            print(\"Invalid pin\")\n",
    "            "
   ]
  },
  {
   "cell_type": "code",
   "execution_count": 3,
   "id": "bd5332cd",
   "metadata": {},
   "outputs": [
    {
     "name": "stdout",
     "output_type": "stream",
     "text": [
      "\n",
      "                   HELLO  HOW WOULD YOU LIKE TO CONTINUE ?\n",
      "                   1. PRESS 1 TO CREATE A  PIN\n",
      "                   2. PRESS 2 TO DEPOSIT THE AMOUNT\n",
      "                   3. PRESS 3 TO WITHDRAW THE AMOUNT\n",
      "                   4. PRESS 4 TO CHECK  BALENCE\n",
      "                   5. PRESS 5 TO  EXIT\n",
      "\n",
      "\n",
      "\n",
      "1\n",
      "Enter your pin = 7867\n",
      "Pin set succesfully\n"
     ]
    }
   ],
   "source": [
    "hdfc=Atm()"
   ]
  },
  {
   "cell_type": "code",
   "execution_count": 4,
   "id": "a22b126f",
   "metadata": {},
   "outputs": [
    {
     "name": "stdout",
     "output_type": "stream",
     "text": [
      "\n",
      "                   HELLO  HOW WOULD YOU LIKE TO CONTINUE ?\n",
      "                   1. PRESS 1 TO CREATE A  PIN\n",
      "                   2. PRESS 2 TO DEPOSIT THE AMOUNT\n",
      "                   3. PRESS 3 TO WITHDRAW THE AMOUNT\n",
      "                   4. PRESS 4 TO CHECK  BALENCE\n",
      "                   5. PRESS 5 TO  EXIT\n",
      "\n",
      "\n",
      "\n",
      "1\n",
      "Enter your pin = 1234\n",
      "Pin set succesfully\n"
     ]
    }
   ],
   "source": [
    "\n",
    "hdfc=Atm()"
   ]
  },
  {
   "cell_type": "code",
   "execution_count": 7,
   "id": "8e4776fc",
   "metadata": {},
   "outputs": [
    {
     "name": "stdout",
     "output_type": "stream",
     "text": [
      "Enter your pin1234\n",
      "0\n"
     ]
    }
   ],
   "source": [
    "hdfc.check_balence()"
   ]
  },
  {
   "cell_type": "code",
   "execution_count": 8,
   "id": "33862e6f",
   "metadata": {},
   "outputs": [
    {
     "name": "stdout",
     "output_type": "stream",
     "text": [
      "Enter your pin = 1234\n",
      "Enter the amount to deposit1000000\n",
      "Depositted Succesfully\n"
     ]
    }
   ],
   "source": [
    "hdfc.deposit()"
   ]
  },
  {
   "cell_type": "code",
   "execution_count": 10,
   "id": "53518f0b",
   "metadata": {},
   "outputs": [
    {
     "name": "stdout",
     "output_type": "stream",
     "text": [
      "Enter your pin1234\n",
      "1000000\n"
     ]
    }
   ],
   "source": [
    "hdfc.check_balence()"
   ]
  },
  {
   "cell_type": "code",
   "execution_count": 11,
   "id": "70115ff9",
   "metadata": {},
   "outputs": [
    {
     "name": "stdout",
     "output_type": "stream",
     "text": [
      "Enter your pin1234\n",
      "Enter the amount that you want to withdraw50000\n",
      "successfully withdrawn the amount\n"
     ]
    }
   ],
   "source": [
    "hdfc.withdraw()"
   ]
  },
  {
   "cell_type": "code",
   "execution_count": 12,
   "id": "f33715a6",
   "metadata": {},
   "outputs": [
    {
     "name": "stdout",
     "output_type": "stream",
     "text": [
      "Enter your pin1234\n",
      "950000\n"
     ]
    }
   ],
   "source": [
    "hdfc.check_balence()"
   ]
  },
  {
   "cell_type": "code",
   "execution_count": null,
   "id": "eee1c771",
   "metadata": {},
   "outputs": [],
   "source": []
  }
 ],
 "metadata": {
  "kernelspec": {
   "display_name": "Python 3",
   "language": "python",
   "name": "python3"
  },
  "language_info": {
   "codemirror_mode": {
    "name": "ipython",
    "version": 3
   },
   "file_extension": ".py",
   "mimetype": "text/x-python",
   "name": "python",
   "nbconvert_exporter": "python",
   "pygments_lexer": "ipython3",
   "version": "3.8.8"
  }
 },
 "nbformat": 4,
 "nbformat_minor": 5
}
